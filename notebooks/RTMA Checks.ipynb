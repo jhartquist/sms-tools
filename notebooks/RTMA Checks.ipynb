{
 "cells": [
  {
   "cell_type": "code",
   "execution_count": 1,
   "metadata": {},
   "outputs": [],
   "source": [
    "import numpy as np\n",
    "from scipy.signal import get_window\n",
    "import math\n",
    "import sys, os\n",
    "sys.path.append('../software/models/')\n",
    "import dftModel as DFT\n",
    "import utilFunctions as UF\n",
    "import stft\n",
    "import sineModel as SM\n",
    "import IPython.display as ipd"
   ]
  },
  {
   "cell_type": "code",
   "execution_count": 2,
   "metadata": {},
   "outputs": [],
   "source": [
    "from scipy.io.wavfile import write, read\n",
    "INT16_FAC = (2**15)-1\n",
    "INT32_FAC = (2**31)-1\n",
    "INT64_FAC = (2**63)-1\n",
    "norm_fact = {'int16':INT16_FAC, 'int32':INT32_FAC, 'int64':INT64_FAC,'float32':1.0,'float64':1.0}\n",
    "def wavread(filename):\n",
    "    fs, x = read(filename)\n",
    "    x = np.float32(x)/norm_fact[x.dtype.name]\n",
    "    return fs, x"
   ]
  },
  {
   "cell_type": "markdown",
   "metadata": {},
   "source": [
    "# STFT"
   ]
  },
  {
   "cell_type": "markdown",
   "metadata": {},
   "source": [
    "### RTMA helpers "
   ]
  },
  {
   "cell_type": "code",
   "execution_count": 3,
   "metadata": {},
   "outputs": [],
   "source": [
    "from scipy.signal import check_COLA"
   ]
  },
  {
   "cell_type": "code",
   "execution_count": 4,
   "metadata": {},
   "outputs": [],
   "source": [
    "#export\n",
    "def gen_sinusoid(amp = 0.5,\n",
    "                 freq = 440.0,\n",
    "                 len_seconds = None,\n",
    "                 num_samples = None,\n",
    "                 sample_rate = 44100,\n",
    "                 phi = 0.0):\n",
    "    if num_samples is None and len_seconds is not None:\n",
    "        num_samples = len_seconds * sample_rate\n",
    "    if num_samples is None:\n",
    "        num_samples = sample_rate\n",
    "\n",
    "    if isinstance(freq, list):\n",
    "        freq = np.linspace(freq[0], freq[1], num_samples)\n",
    "\n",
    "    n = np.arange(num_samples)\n",
    "    x = amp * np.cos(2.0 * np.pi * freq * n / sample_rate + phi)\n",
    "    return x"
   ]
  },
  {
   "cell_type": "code",
   "execution_count": 5,
   "metadata": {},
   "outputs": [],
   "source": [
    "#export\n",
    "def get_cola_window(window_name: str, n_window: int, n_hop: int):\n",
    "    even_window = n_window % 2 == 0\n",
    "    window_by_hop = n_window // n_hop\n",
    "\n",
    "    if (window_name == 'hamming'):\n",
    "        window = get_window(window_name, n_window, fftbins=even_window)\n",
    "        if not even_window:\n",
    "            window[ 0] /= 2\n",
    "            window[-1] /= 2\n",
    "        window /= (window_by_hop * 0.54)\n",
    "        \n",
    "    elif (window_name == 'hann' or window_name == 'hanning'):\n",
    "        window = get_window(window_name, n_window, fftbins=even_window)\n",
    "    \n",
    "    elif (window_name == 'blackman'):\n",
    "        window = get_window(window_name, n_window, fftbins=even_window)\n",
    "        window /= (window_by_hop * 0.42)\n",
    "        \n",
    "    n_overlap = n_window - n_hop\n",
    "    assert check_COLA(window, nperseg=n_window, noverlap=n_overlap)\n",
    "    \n",
    "    return window"
   ]
  },
  {
   "cell_type": "markdown",
   "metadata": {},
   "source": [
    "## Comparisons"
   ]
  },
  {
   "cell_type": "code",
   "execution_count": 6,
   "metadata": {},
   "outputs": [],
   "source": [
    "import librosa as lr"
   ]
  },
  {
   "cell_type": "markdown",
   "metadata": {},
   "source": [
    "Parameters:"
   ]
  },
  {
   "cell_type": "code",
   "execution_count": 7,
   "metadata": {},
   "outputs": [
    {
     "data": {
      "text/plain": [
       "(48000, (271522,), dtype('float32'))"
      ]
     },
     "execution_count": 7,
     "metadata": {},
     "output_type": "execute_result"
    }
   ],
   "source": [
    "fn = \"/home/john/code/repos/rtma/nbs/data/E_octaves_both.wav\"\n",
    "(fs, x) = wavread(fn)\n",
    "fs, x.shape, x.dtype"
   ]
  },
  {
   "cell_type": "code",
   "execution_count": 22,
   "metadata": {},
   "outputs": [
    {
     "data": {
      "text/plain": [
       "((1001,), 540.5400000000001, 0.9999977345260643, 0.9999999999999999)"
      ]
     },
     "execution_count": 22,
     "metadata": {},
     "output_type": "execute_result"
    }
   ],
   "source": [
    "m = 1001\n",
    "H = 512\n",
    "N = 2048\n",
    "w = get_window('hamming', m)\n",
    "w_norm = w / w.sum()\n",
    "w.shape, w.sum(), w.max(), w_norm.sum()"
   ]
  },
  {
   "cell_type": "markdown",
   "metadata": {},
   "source": [
    "### librosa"
   ]
  },
  {
   "cell_type": "code",
   "execution_count": 21,
   "metadata": {},
   "outputs": [
    {
     "data": {
      "text/plain": [
       "(-172.58548, -15.702148)"
      ]
     },
     "execution_count": 21,
     "metadata": {},
     "output_type": "execute_result"
    }
   ],
   "source": [
    "X = lr.stft(x, n_fft=N, hop_length=H, win_length=m, window=w, pad_mode='constant')\n",
    "mx = abs(X)\n",
    "mx = 20.0 * np.log10(mx)\n",
    "mx.min(), mx.max()"
   ]
  },
  {
   "cell_type": "code",
   "execution_count": 24,
   "metadata": {},
   "outputs": [
    {
     "data": {
      "text/plain": [
       "(-172.58548, -15.702148)"
      ]
     },
     "execution_count": 24,
     "metadata": {},
     "output_type": "execute_result"
    }
   ],
   "source": [
    "X = lr.stft(x, n_fft=N, hop_length=H, win_length=m, window=w_norm, pad_mode='constant')\n",
    "mx = abs(X)\n",
    "mx = 20.0 * np.log10(mx)\n",
    "mx.min(), mx.max()"
   ]
  },
  {
   "cell_type": "code",
   "execution_count": 23,
   "metadata": {},
   "outputs": [
    {
     "data": {
      "text/plain": [
       "(-117.92894, 38.954407)"
      ]
     },
     "execution_count": 23,
     "metadata": {},
     "output_type": "execute_result"
    }
   ],
   "source": [
    "X = lr.stft(x, n_fft=N, hop_length=H, win_length=m, window='hamming', pad_mode='constant')\n",
    "mx = abs(X)\n",
    "mx = 20.0 * np.log10(mx)\n",
    "mx.min(), mx.max()"
   ]
  },
  {
   "cell_type": "markdown",
   "metadata": {},
   "source": [
    "### sms-tools"
   ]
  },
  {
   "cell_type": "code",
   "execution_count": 15,
   "metadata": {},
   "outputs": [
    {
     "data": {
      "text/plain": [
       "(-174.9114915763514, -15.697454732342324)"
      ]
     },
     "execution_count": 15,
     "metadata": {},
     "output_type": "execute_result"
    }
   ],
   "source": [
    "mx, px = stft.stftAnal(x, w, N, H)\n",
    "mx.min(), mx.max()"
   ]
  },
  {
   "cell_type": "code",
   "execution_count": 25,
   "metadata": {},
   "outputs": [
    {
     "data": {
      "text/plain": [
       "(-174.91149157636949, -15.697454732342324)"
      ]
     },
     "execution_count": 25,
     "metadata": {},
     "output_type": "execute_result"
    }
   ],
   "source": [
    "mx, px = stft.stftAnal(x, w_norm, N, H)  # no difference, stftAnal normalizes internally\n",
    "mx.min(), mx.max()"
   ]
  },
  {
   "cell_type": "markdown",
   "metadata": {},
   "source": [
    "### rtma"
   ]
  },
  {
   "cell_type": "code",
   "execution_count": null,
   "metadata": {},
   "outputs": [],
   "source": []
  },
  {
   "cell_type": "code",
   "execution_count": null,
   "metadata": {},
   "outputs": [],
   "source": []
  },
  {
   "cell_type": "code",
   "execution_count": null,
   "metadata": {},
   "outputs": [],
   "source": []
  },
  {
   "cell_type": "code",
   "execution_count": null,
   "metadata": {},
   "outputs": [],
   "source": []
  },
  {
   "cell_type": "code",
   "execution_count": null,
   "metadata": {},
   "outputs": [],
   "source": []
  },
  {
   "cell_type": "code",
   "execution_count": null,
   "metadata": {},
   "outputs": [],
   "source": [
    "w = get_window('hamming', 2048)\n",
    "N = 4096\n",
    "t = -80"
   ]
  },
  {
   "cell_type": "code",
   "execution_count": null,
   "metadata": {},
   "outputs": [],
   "source": []
  },
  {
   "cell_type": "code",
   "execution_count": null,
   "metadata": {},
   "outputs": [],
   "source": [
    "y = SM.sineModel(x, fs, w, N, t)"
   ]
  },
  {
   "cell_type": "code",
   "execution_count": null,
   "metadata": {},
   "outputs": [],
   "source": [
    "import matplotlib.pyplot as plt"
   ]
  },
  {
   "cell_type": "code",
   "execution_count": null,
   "metadata": {},
   "outputs": [],
   "source": [
    "plt.plot(x)"
   ]
  },
  {
   "cell_type": "code",
   "execution_count": null,
   "metadata": {},
   "outputs": [],
   "source": [
    "plt.plot(y)"
   ]
  },
  {
   "cell_type": "code",
   "execution_count": null,
   "metadata": {},
   "outputs": [],
   "source": [
    "ipd.Audio(x, rate=fs)"
   ]
  },
  {
   "cell_type": "code",
   "execution_count": null,
   "metadata": {},
   "outputs": [],
   "source": [
    "ipd.Audio(y, rate=fs)"
   ]
  },
  {
   "cell_type": "code",
   "execution_count": null,
   "metadata": {},
   "outputs": [],
   "source": [
    "sr = 100\n",
    "amp = 0.5\n",
    "\n",
    "n_fft = 128\n",
    "\n",
    "freq = [sr / n_fft * f for f in [3, 17]]\n",
    "\n",
    "num_samples = 200\n",
    "x = gen_sinusoid(amp, freq=freq, sample_rate=sr, num_samples=num_samples)\n",
    "\n",
    "plot(x)"
   ]
  },
  {
   "cell_type": "code",
   "execution_count": null,
   "metadata": {},
   "outputs": [],
   "source": [
    "#export\n",
    "def gen_sinusoid(amp = 0.5,\n",
    "                 freq = 440.0,\n",
    "                 len_seconds = None,\n",
    "                 num_samples = None,\n",
    "                 sample_rate = 44100,\n",
    "                 phi = 0.0):\n",
    "    if num_samples is None and len_seconds is not None:\n",
    "        num_samples = len_seconds * sample_rate\n",
    "    if num_samples is None:\n",
    "        num_samples = sample_rate\n",
    "\n",
    "    if isinstance(freq, list):\n",
    "        freq = np.linspace(freq[0], freq[1], num_samples)\n",
    "\n",
    "    n = np.arange(num_samples)\n",
    "    x = amp * np.cos(2.0 * np.pi * freq * n / sample_rate + phi)\n",
    "    return x"
   ]
  },
  {
   "cell_type": "code",
   "execution_count": null,
   "metadata": {},
   "outputs": [],
   "source": [
    "#export\n",
    "def plot(x):\n",
    "    plt.figure(figsize=(10, 2))\n",
    "    plt.plot(x)"
   ]
  },
  {
   "cell_type": "code",
   "execution_count": null,
   "metadata": {},
   "outputs": [],
   "source": [
    "stft?"
   ]
  },
  {
   "cell_type": "code",
   "execution_count": null,
   "metadata": {},
   "outputs": [],
   "source": [
    "stft.stftAnal"
   ]
  },
  {
   "cell_type": "code",
   "execution_count": null,
   "metadata": {},
   "outputs": [],
   "source": [
    "mx, px = stft.stftAnal(x, w, n_fft, h)\n",
    "mx.max()"
   ]
  },
  {
   "cell_type": "code",
   "execution_count": null,
   "metadata": {},
   "outputs": [],
   "source": []
  },
  {
   "cell_type": "code",
   "execution_count": null,
   "metadata": {},
   "outputs": [],
   "source": [
    "m = 97\n",
    "h = 48\n",
    "w = get_cola_window('hamming', m, h)\n",
    "plot(w)\n",
    "wx = x[:m] * w\n",
    "plot(wx)"
   ]
  },
  {
   "cell_type": "code",
   "execution_count": null,
   "metadata": {},
   "outputs": [],
   "source": []
  }
 ],
 "metadata": {
  "kernelspec": {
   "display_name": "Python 3",
   "language": "python",
   "name": "python3"
  },
  "language_info": {
   "codemirror_mode": {
    "name": "ipython",
    "version": 3
   },
   "file_extension": ".py",
   "mimetype": "text/x-python",
   "name": "python",
   "nbconvert_exporter": "python",
   "pygments_lexer": "ipython3",
   "version": "3.7.7"
  }
 },
 "nbformat": 4,
 "nbformat_minor": 4
}
